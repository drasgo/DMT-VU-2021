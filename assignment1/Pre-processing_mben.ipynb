{
 "cells": [
  {
   "cell_type": "code",
   "execution_count": 270,
   "metadata": {},
   "outputs": [],
   "source": [
    "# packages\n",
    "import pandas as pd\n",
    "import numpy as  np"
   ]
  },
  {
   "cell_type": "code",
   "execution_count": 271,
   "metadata": {},
   "outputs": [],
   "source": [
    "# import data, read file\n",
    "client_data = pd.read_csv('dataset_mood_smartphone.csv')"
   ]
  },
  {
   "cell_type": "code",
   "execution_count": 272,
   "metadata": {},
   "outputs": [
    {
     "data": {
      "text/plain": [
       "array(['mood', 'circumplex.arousal', 'circumplex.valence', 'activity',\n",
       "       'screen', 'call', 'sms', 'appCat.builtin', 'appCat.communication',\n",
       "       'appCat.entertainment', 'appCat.finance', 'appCat.game',\n",
       "       'appCat.office', 'appCat.other', 'appCat.social', 'appCat.travel',\n",
       "       'appCat.unknown', 'appCat.utilities', 'appCat.weather'],\n",
       "      dtype=object)"
      ]
     },
     "execution_count": 272,
     "metadata": {},
     "output_type": "execute_result"
    }
   ],
   "source": [
    "client_data.id.nunique()\n",
    "client_data.variable.unique()"
   ]
  },
  {
   "cell_type": "code",
   "execution_count": 273,
   "metadata": {},
   "outputs": [
    {
     "data": {
      "text/plain": [
       "array([0.07142857, 0.09166667, 0.00833333, ..., 0.17094017, 0.62096774,\n",
       "       0.73109244])"
      ]
     },
     "execution_count": 273,
     "metadata": {},
     "output_type": "execute_result"
    }
   ],
   "source": [
    "client_data[client_data['variable']== 'mood'].value.nunique()\n",
    "client_data[client_data['variable']== 'activity'].value.unique()"
   ]
  },
  {
   "cell_type": "code",
   "execution_count": 274,
   "metadata": {},
   "outputs": [
    {
     "data": {
      "text/html": [
       "<div>\n",
       "<style scoped>\n",
       "    .dataframe tbody tr th:only-of-type {\n",
       "        vertical-align: middle;\n",
       "    }\n",
       "\n",
       "    .dataframe tbody tr th {\n",
       "        vertical-align: top;\n",
       "    }\n",
       "\n",
       "    .dataframe thead th {\n",
       "        text-align: right;\n",
       "    }\n",
       "</style>\n",
       "<table border=\"1\" class=\"dataframe\">\n",
       "  <thead>\n",
       "    <tr style=\"text-align: right;\">\n",
       "      <th></th>\n",
       "      <th>Unnamed: 0</th>\n",
       "      <th>id</th>\n",
       "      <th>time</th>\n",
       "      <th>variable</th>\n",
       "      <th>value</th>\n",
       "    </tr>\n",
       "  </thead>\n",
       "  <tbody>\n",
       "    <tr>\n",
       "      <th>0</th>\n",
       "      <td>1</td>\n",
       "      <td>AS14.01</td>\n",
       "      <td>2014-02-26 13:00:00.000</td>\n",
       "      <td>mood</td>\n",
       "      <td>6.0</td>\n",
       "    </tr>\n",
       "    <tr>\n",
       "      <th>1</th>\n",
       "      <td>2</td>\n",
       "      <td>AS14.01</td>\n",
       "      <td>2014-02-26 15:00:00.000</td>\n",
       "      <td>mood</td>\n",
       "      <td>6.0</td>\n",
       "    </tr>\n",
       "    <tr>\n",
       "      <th>2</th>\n",
       "      <td>3</td>\n",
       "      <td>AS14.01</td>\n",
       "      <td>2014-02-26 18:00:00.000</td>\n",
       "      <td>mood</td>\n",
       "      <td>6.0</td>\n",
       "    </tr>\n",
       "    <tr>\n",
       "      <th>3</th>\n",
       "      <td>4</td>\n",
       "      <td>AS14.01</td>\n",
       "      <td>2014-02-26 21:00:00.000</td>\n",
       "      <td>mood</td>\n",
       "      <td>7.0</td>\n",
       "    </tr>\n",
       "    <tr>\n",
       "      <th>4</th>\n",
       "      <td>5</td>\n",
       "      <td>AS14.01</td>\n",
       "      <td>2014-02-27 09:00:00.000</td>\n",
       "      <td>mood</td>\n",
       "      <td>6.0</td>\n",
       "    </tr>\n",
       "  </tbody>\n",
       "</table>\n",
       "</div>"
      ],
      "text/plain": [
       "   Unnamed: 0       id                     time variable  value\n",
       "0           1  AS14.01  2014-02-26 13:00:00.000     mood    6.0\n",
       "1           2  AS14.01  2014-02-26 15:00:00.000     mood    6.0\n",
       "2           3  AS14.01  2014-02-26 18:00:00.000     mood    6.0\n",
       "3           4  AS14.01  2014-02-26 21:00:00.000     mood    7.0\n",
       "4           5  AS14.01  2014-02-27 09:00:00.000     mood    6.0"
      ]
     },
     "execution_count": 274,
     "metadata": {},
     "output_type": "execute_result"
    }
   ],
   "source": [
    "client_data.head(5)"
   ]
  },
  {
   "cell_type": "markdown",
   "metadata": {},
   "source": [
    "# preprocessing"
   ]
  },
  {
   "cell_type": "code",
   "execution_count": null,
   "metadata": {},
   "outputs": [],
   "source": []
  },
  {
   "cell_type": "code",
   "execution_count": 275,
   "metadata": {},
   "outputs": [],
   "source": [
    "# task 2\n",
    "client_data_new=pd.DataFrame(columns=['id', 'time', 'var',\"value\"])\n",
    "\n",
    "temp_list=[]\n",
    "prev_day='02-26'\n",
    "\n",
    "for index, row in client_data.iterrows():\n",
    "    \n",
    "    date=row['time'].split(' ')[0]\n",
    "    date=date.split('-')[1]+'-'+date.split('-')[2]\n",
    "    \n",
    "    if date != prev_day:\n",
    "        client_data_new.loc[index]=[client_data.loc[index-1]['id'], prev_day , client_data.loc[index-1]['variable'], np.mean(temp_list)]\n",
    "        temp_list=[row['value']]\n",
    "    else:\n",
    "        temp_list.append(row['value'])\n",
    "    prev_day=date"
   ]
  },
  {
   "cell_type": "code",
   "execution_count": 276,
   "metadata": {},
   "outputs": [],
   "source": [
    "# test = client_data_new['time'][0]\n",
    "# test = test.split(' ')[0]\n",
    "# test = test.split('-')[1]+'-'+test.split('-')[2]\n",
    "# test"
   ]
  },
  {
   "cell_type": "code",
   "execution_count": 277,
   "metadata": {},
   "outputs": [
    {
     "data": {
      "text/html": [
       "<div>\n",
       "<style scoped>\n",
       "    .dataframe tbody tr th:only-of-type {\n",
       "        vertical-align: middle;\n",
       "    }\n",
       "\n",
       "    .dataframe tbody tr th {\n",
       "        vertical-align: top;\n",
       "    }\n",
       "\n",
       "    .dataframe thead th {\n",
       "        text-align: right;\n",
       "    }\n",
       "</style>\n",
       "<table border=\"1\" class=\"dataframe\">\n",
       "  <thead>\n",
       "    <tr style=\"text-align: right;\">\n",
       "      <th></th>\n",
       "      <th>id</th>\n",
       "      <th>time</th>\n",
       "      <th>var</th>\n",
       "      <th>value</th>\n",
       "    </tr>\n",
       "  </thead>\n",
       "  <tbody>\n",
       "    <tr>\n",
       "      <th>4</th>\n",
       "      <td>AS14.01</td>\n",
       "      <td>02-26</td>\n",
       "      <td>mood</td>\n",
       "      <td>6.250000</td>\n",
       "    </tr>\n",
       "    <tr>\n",
       "      <th>7</th>\n",
       "      <td>AS14.01</td>\n",
       "      <td>02-27</td>\n",
       "      <td>mood</td>\n",
       "      <td>6.333333</td>\n",
       "    </tr>\n",
       "    <tr>\n",
       "      <th>12</th>\n",
       "      <td>AS14.01</td>\n",
       "      <td>03-21</td>\n",
       "      <td>mood</td>\n",
       "      <td>6.200000</td>\n",
       "    </tr>\n",
       "    <tr>\n",
       "      <th>17</th>\n",
       "      <td>AS14.01</td>\n",
       "      <td>03-22</td>\n",
       "      <td>mood</td>\n",
       "      <td>6.400000</td>\n",
       "    </tr>\n",
       "    <tr>\n",
       "      <th>22</th>\n",
       "      <td>AS14.01</td>\n",
       "      <td>03-23</td>\n",
       "      <td>mood</td>\n",
       "      <td>6.800000</td>\n",
       "    </tr>\n",
       "  </tbody>\n",
       "</table>\n",
       "</div>"
      ],
      "text/plain": [
       "         id   time   var     value\n",
       "4   AS14.01  02-26  mood  6.250000\n",
       "7   AS14.01  02-27  mood  6.333333\n",
       "12  AS14.01  03-21  mood  6.200000\n",
       "17  AS14.01  03-22  mood  6.400000\n",
       "22  AS14.01  03-23  mood  6.800000"
      ]
     },
     "execution_count": 277,
     "metadata": {},
     "output_type": "execute_result"
    }
   ],
   "source": [
    "client_data_new.head(5)"
   ]
  },
  {
   "cell_type": "code",
   "execution_count": 279,
   "metadata": {},
   "outputs": [],
   "source": [
    "# task 3, t=4 per row\n",
    "\n",
    "temp = pd.DataFrame(client_data_new.values)\n",
    "df = pd.concat([temp.shift(3), temp.shift(2), temp.shift(1), temp], axis=1)\n",
    "df.columns = ['id-1','time1','var1','val1','id-2','time2','var2','val2','id-3','time3','var3','val3','id-4','time4','var4','val4']\n",
    "\n",
    "# client_data is the main data set, df is for filtering out unmatching rows\n",
    "client_data = df.loc[3:]\n",
    "df = df.loc[3:]\n",
    "# df_test = df"
   ]
  },
  {
   "cell_type": "code",
   "execution_count": 281,
   "metadata": {},
   "outputs": [],
   "source": [
    "# filtering out variable and id that do not match per row\n",
    "df['id_check'] = 0\n",
    "df['var_check'] = 0\n",
    "\n",
    "for i, row in df.iterrows():\n",
    "    if (row['id-1']== row['id-2']) & (row['id-1']==row['id-3'])& (row['id-1']==row['id-4']):\n",
    "        df.loc[i,'id_check'] = 1\n",
    "    else:\n",
    "        df.loc[i,'id_check'] = 0\n",
    "    \n",
    "    if (row['var1']== row['var2']) & (row['var1']==row['var3'])& (row['var1']==row['var4']):\n",
    "        df.loc[i,'var_check'] = 1\n",
    "    else:\n",
    "        df.loc[i,'var_check'] = 0\n"
   ]
  },
  {
   "cell_type": "code",
   "execution_count": 282,
   "metadata": {},
   "outputs": [],
   "source": [
    "# df['id_check'] = 0\n",
    "# df['var_check'] = 0\n",
    "# for index in range(len(df)):\n",
    "#     if ((df.iloc[index]['id-1'] == df.iloc[index]['id-2']) & (df.iloc[index]['id-1'] == df.iloc[index]['id-3'])\n",
    "#         &(df.iloc[index]['id-1'] == df.iloc[index]['id-4'])):\n",
    "#         df.iloc[index]['id_check'] = 1\n",
    "#     else:\n",
    "#         df.iloc[index]['id_check'] = 0\n",
    "\n",
    "        \n",
    "# for index in range(len(df)):\n",
    "#     if ((df.iloc[index]['var1'] == df.iloc[index]['var2']) & (df.iloc[index]['var1'] == df.iloc[index]['var3'])\n",
    "#         &(df.iloc[index]['var1'] == df.iloc[index]['var4'])):\n",
    "#         df.iloc[index]['var_check'] = 1\n",
    "#     else:\n",
    "#         df.iloc[index]['var_check'] = 0\n",
    "\n",
    "\n",
    "# for index in range(len(df)):\n",
    "#     if ((df.iloc[index]['var1'] == df.iloc[index]['var2']) & (df.iloc[index]['var1'] == df.iloc[index]['var3'])\n",
    "#         &(df.iloc[index]['var1'] == df.iloc[index]['var4'])):\n",
    "#         df['var_check'] = 1\n",
    "#     else:\n",
    "#         df['var_check'] = 0"
   ]
  },
  {
   "cell_type": "code",
   "execution_count": 283,
   "metadata": {},
   "outputs": [
    {
     "name": "stdout",
     "output_type": "stream",
     "text": [
      "(15515, 18)\n",
      "(14188, 10)\n"
     ]
    }
   ],
   "source": [
    "# cleaning: removing rows that dont match id/var\n",
    "\n",
    "#removing rows with different ID and variable\n",
    "for i, row in df.iterrows():\n",
    "    if row['id_check']==0 or row['var_check']==0:\n",
    "        client_data=client_data.drop(i)\n",
    "    \n",
    "client_data=client_data.drop(['var2','var3','var4','id-2','id-3','id-4'], axis=1) \n",
    "\n",
    "print(df.shape)\n",
    "print(client_data.shape)"
   ]
  },
  {
   "cell_type": "code",
   "execution_count": 298,
   "metadata": {},
   "outputs": [],
   "source": [
    "columns_titles = ['id-1','var1','time1','val1','time2','val2','time3','val3','time4','val4']\n",
    "client_data=client_data.reindex(columns=columns_titles)\n",
    "client_data = client_data.reset_index()\n",
    "client_data = client_data.drop(columns=['index'])\n",
    "\n",
    "# make times into datetime, to calculate with it\n",
    "client_data['time1'] = pd.to_datetime(client_data['time1'],format=\"%m-%d\")\n",
    "client_data['time2'] = pd.to_datetime(client_data['time2'],format=\"%m-%d\")\n",
    "client_data['time3'] = pd.to_datetime(client_data['time3'],format=\"%m-%d\")\n",
    "client_data['time4'] = pd.to_datetime(client_data['time4'],format=\"%m-%d\")"
   ]
  },
  {
   "cell_type": "code",
   "execution_count": 367,
   "metadata": {},
   "outputs": [
    {
     "data": {
      "text/html": [
       "<div>\n",
       "<style scoped>\n",
       "    .dataframe tbody tr th:only-of-type {\n",
       "        vertical-align: middle;\n",
       "    }\n",
       "\n",
       "    .dataframe tbody tr th {\n",
       "        vertical-align: top;\n",
       "    }\n",
       "\n",
       "    .dataframe thead th {\n",
       "        text-align: right;\n",
       "    }\n",
       "</style>\n",
       "<table border=\"1\" class=\"dataframe\">\n",
       "  <thead>\n",
       "    <tr style=\"text-align: right;\">\n",
       "      <th></th>\n",
       "      <th>id-1</th>\n",
       "      <th>var1</th>\n",
       "      <th>time1</th>\n",
       "      <th>val1</th>\n",
       "      <th>time2</th>\n",
       "      <th>val2</th>\n",
       "      <th>time3</th>\n",
       "      <th>val3</th>\n",
       "      <th>time4</th>\n",
       "      <th>val4</th>\n",
       "      <th>avg</th>\n",
       "      <th>slope</th>\n",
       "    </tr>\n",
       "  </thead>\n",
       "  <tbody>\n",
       "    <tr>\n",
       "      <th>0</th>\n",
       "      <td>AS14.01</td>\n",
       "      <td>mood</td>\n",
       "      <td>1900-03-21</td>\n",
       "      <td>6.2</td>\n",
       "      <td>1900-03-22</td>\n",
       "      <td>6.4</td>\n",
       "      <td>1900-03-23</td>\n",
       "      <td>6.80</td>\n",
       "      <td>1900-03-24</td>\n",
       "      <td>6.00</td>\n",
       "      <td>6.466667</td>\n",
       "      <td>0.300</td>\n",
       "    </tr>\n",
       "    <tr>\n",
       "      <th>1</th>\n",
       "      <td>AS14.01</td>\n",
       "      <td>mood</td>\n",
       "      <td>1900-03-22</td>\n",
       "      <td>6.4</td>\n",
       "      <td>1900-03-23</td>\n",
       "      <td>6.8</td>\n",
       "      <td>1900-03-24</td>\n",
       "      <td>6.00</td>\n",
       "      <td>1900-03-25</td>\n",
       "      <td>6.75</td>\n",
       "      <td>6.400000</td>\n",
       "      <td>-0.200</td>\n",
       "    </tr>\n",
       "    <tr>\n",
       "      <th>2</th>\n",
       "      <td>AS14.01</td>\n",
       "      <td>mood</td>\n",
       "      <td>1900-03-23</td>\n",
       "      <td>6.8</td>\n",
       "      <td>1900-03-24</td>\n",
       "      <td>6.0</td>\n",
       "      <td>1900-03-25</td>\n",
       "      <td>6.75</td>\n",
       "      <td>1900-03-26</td>\n",
       "      <td>6.60</td>\n",
       "      <td>6.516667</td>\n",
       "      <td>-0.025</td>\n",
       "    </tr>\n",
       "  </tbody>\n",
       "</table>\n",
       "</div>"
      ],
      "text/plain": [
       "      id-1  var1      time1  val1      time2  val2      time3  val3  \\\n",
       "0  AS14.01  mood 1900-03-21   6.2 1900-03-22   6.4 1900-03-23  6.80   \n",
       "1  AS14.01  mood 1900-03-22   6.4 1900-03-23   6.8 1900-03-24  6.00   \n",
       "2  AS14.01  mood 1900-03-23   6.8 1900-03-24   6.0 1900-03-25  6.75   \n",
       "\n",
       "       time4  val4       avg  slope  \n",
       "0 1900-03-24  6.00  6.466667  0.300  \n",
       "1 1900-03-25  6.75  6.400000 -0.200  \n",
       "2 1900-03-26  6.60  6.516667 -0.025  "
      ]
     },
     "execution_count": 367,
     "metadata": {},
     "output_type": "execute_result"
    }
   ],
   "source": [
    "client_data.head(3)"
   ]
  },
  {
   "cell_type": "code",
   "execution_count": 316,
   "metadata": {},
   "outputs": [],
   "source": [
    "# delta time step is 1 day --> timedelta(-1 days)"
   ]
  },
  {
   "cell_type": "code",
   "execution_count": 321,
   "metadata": {},
   "outputs": [
    {
     "ename": "IndexError",
     "evalue": "single positional indexer is out-of-bounds",
     "output_type": "error",
     "traceback": [
      "\u001b[0;31m---------------------------------------------------------------------------\u001b[0m",
      "\u001b[0;31mIndexError\u001b[0m                                Traceback (most recent call last)",
      "\u001b[0;32m<ipython-input-321-bf8dbe26ca97>\u001b[0m in \u001b[0;36m<module>\u001b[0;34m\u001b[0m\n\u001b[1;32m      3\u001b[0m \u001b[0mdata_iter\u001b[0m\u001b[0;34m=\u001b[0m\u001b[0mclient_data\u001b[0m\u001b[0;34m\u001b[0m\u001b[0m\n\u001b[1;32m      4\u001b[0m \u001b[0;32mfor\u001b[0m \u001b[0mi\u001b[0m\u001b[0;34m,\u001b[0m \u001b[0mrow\u001b[0m \u001b[0;32min\u001b[0m \u001b[0mdata_iter\u001b[0m\u001b[0;34m.\u001b[0m\u001b[0miterrows\u001b[0m\u001b[0;34m(\u001b[0m\u001b[0;34m)\u001b[0m\u001b[0;34m:\u001b[0m\u001b[0;34m\u001b[0m\u001b[0m\n\u001b[0;32m----> 5\u001b[0;31m     \u001b[0mdelta1\u001b[0m\u001b[0;34m=\u001b[0m\u001b[0mdata_iter\u001b[0m\u001b[0;34m[\u001b[0m\u001b[0;34m\"time1\"\u001b[0m\u001b[0;34m]\u001b[0m\u001b[0;34m.\u001b[0m\u001b[0miloc\u001b[0m\u001b[0;34m[\u001b[0m\u001b[0mi\u001b[0m\u001b[0;34m]\u001b[0m \u001b[0;34m-\u001b[0m \u001b[0mdata_iter\u001b[0m\u001b[0;34m[\u001b[0m\u001b[0;34m\"time2\"\u001b[0m\u001b[0;34m]\u001b[0m\u001b[0;34m.\u001b[0m\u001b[0miloc\u001b[0m\u001b[0;34m[\u001b[0m\u001b[0mi\u001b[0m\u001b[0;34m]\u001b[0m\u001b[0;34m\u001b[0m\u001b[0m\n\u001b[0m\u001b[1;32m      6\u001b[0m     \u001b[0mdelta2\u001b[0m\u001b[0;34m=\u001b[0m\u001b[0mdata_iter\u001b[0m\u001b[0;34m[\u001b[0m\u001b[0;34m\"time2\"\u001b[0m\u001b[0;34m]\u001b[0m\u001b[0;34m.\u001b[0m\u001b[0miloc\u001b[0m\u001b[0;34m[\u001b[0m\u001b[0mi\u001b[0m\u001b[0;34m]\u001b[0m \u001b[0;34m-\u001b[0m \u001b[0mdata_iter\u001b[0m\u001b[0;34m[\u001b[0m\u001b[0;34m\"time3\"\u001b[0m\u001b[0;34m]\u001b[0m\u001b[0;34m.\u001b[0m\u001b[0miloc\u001b[0m\u001b[0;34m[\u001b[0m\u001b[0mi\u001b[0m\u001b[0;34m]\u001b[0m\u001b[0;34m\u001b[0m\u001b[0m\n\u001b[1;32m      7\u001b[0m     \u001b[0mdelta3\u001b[0m\u001b[0;34m=\u001b[0m\u001b[0mdata_iter\u001b[0m\u001b[0;34m[\u001b[0m\u001b[0;34m\"time3\"\u001b[0m\u001b[0;34m]\u001b[0m\u001b[0;34m.\u001b[0m\u001b[0miloc\u001b[0m\u001b[0;34m[\u001b[0m\u001b[0mi\u001b[0m\u001b[0;34m]\u001b[0m \u001b[0;34m-\u001b[0m \u001b[0mdata_iter\u001b[0m\u001b[0;34m[\u001b[0m\u001b[0;34m\"time4\"\u001b[0m\u001b[0;34m]\u001b[0m\u001b[0;34m.\u001b[0m\u001b[0miloc\u001b[0m\u001b[0;34m[\u001b[0m\u001b[0mi\u001b[0m\u001b[0;34m]\u001b[0m\u001b[0;34m\u001b[0m\u001b[0m\n",
      "\u001b[0;32m/Library/Frameworks/Python.framework/Versions/3.6/lib/python3.6/site-packages/pandas/core/indexing.py\u001b[0m in \u001b[0;36m__getitem__\u001b[0;34m(self, key)\u001b[0m\n\u001b[1;32m   1498\u001b[0m \u001b[0;34m\u001b[0m\u001b[0m\n\u001b[1;32m   1499\u001b[0m             \u001b[0mmaybe_callable\u001b[0m \u001b[0;34m=\u001b[0m \u001b[0mcom\u001b[0m\u001b[0;34m.\u001b[0m\u001b[0mapply_if_callable\u001b[0m\u001b[0;34m(\u001b[0m\u001b[0mkey\u001b[0m\u001b[0;34m,\u001b[0m \u001b[0mself\u001b[0m\u001b[0;34m.\u001b[0m\u001b[0mobj\u001b[0m\u001b[0;34m)\u001b[0m\u001b[0;34m\u001b[0m\u001b[0m\n\u001b[0;32m-> 1500\u001b[0;31m             \u001b[0;32mreturn\u001b[0m \u001b[0mself\u001b[0m\u001b[0;34m.\u001b[0m\u001b[0m_getitem_axis\u001b[0m\u001b[0;34m(\u001b[0m\u001b[0mmaybe_callable\u001b[0m\u001b[0;34m,\u001b[0m \u001b[0maxis\u001b[0m\u001b[0;34m=\u001b[0m\u001b[0maxis\u001b[0m\u001b[0;34m)\u001b[0m\u001b[0;34m\u001b[0m\u001b[0m\n\u001b[0m\u001b[1;32m   1501\u001b[0m \u001b[0;34m\u001b[0m\u001b[0m\n\u001b[1;32m   1502\u001b[0m     \u001b[0;32mdef\u001b[0m \u001b[0m_is_scalar_access\u001b[0m\u001b[0;34m(\u001b[0m\u001b[0mself\u001b[0m\u001b[0;34m,\u001b[0m \u001b[0mkey\u001b[0m\u001b[0;34m)\u001b[0m\u001b[0;34m:\u001b[0m\u001b[0;34m\u001b[0m\u001b[0m\n",
      "\u001b[0;32m/Library/Frameworks/Python.framework/Versions/3.6/lib/python3.6/site-packages/pandas/core/indexing.py\u001b[0m in \u001b[0;36m_getitem_axis\u001b[0;34m(self, key, axis)\u001b[0m\n\u001b[1;32m   2228\u001b[0m \u001b[0;34m\u001b[0m\u001b[0m\n\u001b[1;32m   2229\u001b[0m             \u001b[0;31m# validate the location\u001b[0m\u001b[0;34m\u001b[0m\u001b[0;34m\u001b[0m\u001b[0m\n\u001b[0;32m-> 2230\u001b[0;31m             \u001b[0mself\u001b[0m\u001b[0;34m.\u001b[0m\u001b[0m_validate_integer\u001b[0m\u001b[0;34m(\u001b[0m\u001b[0mkey\u001b[0m\u001b[0;34m,\u001b[0m \u001b[0maxis\u001b[0m\u001b[0;34m)\u001b[0m\u001b[0;34m\u001b[0m\u001b[0m\n\u001b[0m\u001b[1;32m   2231\u001b[0m \u001b[0;34m\u001b[0m\u001b[0m\n\u001b[1;32m   2232\u001b[0m             \u001b[0;32mreturn\u001b[0m \u001b[0mself\u001b[0m\u001b[0;34m.\u001b[0m\u001b[0m_get_loc\u001b[0m\u001b[0;34m(\u001b[0m\u001b[0mkey\u001b[0m\u001b[0;34m,\u001b[0m \u001b[0maxis\u001b[0m\u001b[0;34m=\u001b[0m\u001b[0maxis\u001b[0m\u001b[0;34m)\u001b[0m\u001b[0;34m\u001b[0m\u001b[0m\n",
      "\u001b[0;32m/Library/Frameworks/Python.framework/Versions/3.6/lib/python3.6/site-packages/pandas/core/indexing.py\u001b[0m in \u001b[0;36m_validate_integer\u001b[0;34m(self, key, axis)\u001b[0m\n\u001b[1;32m   2137\u001b[0m         \u001b[0mlen_axis\u001b[0m \u001b[0;34m=\u001b[0m \u001b[0mlen\u001b[0m\u001b[0;34m(\u001b[0m\u001b[0mself\u001b[0m\u001b[0;34m.\u001b[0m\u001b[0mobj\u001b[0m\u001b[0;34m.\u001b[0m\u001b[0m_get_axis\u001b[0m\u001b[0;34m(\u001b[0m\u001b[0maxis\u001b[0m\u001b[0;34m)\u001b[0m\u001b[0;34m)\u001b[0m\u001b[0;34m\u001b[0m\u001b[0m\n\u001b[1;32m   2138\u001b[0m         \u001b[0;32mif\u001b[0m \u001b[0mkey\u001b[0m \u001b[0;34m>=\u001b[0m \u001b[0mlen_axis\u001b[0m \u001b[0;32mor\u001b[0m \u001b[0mkey\u001b[0m \u001b[0;34m<\u001b[0m \u001b[0;34m-\u001b[0m\u001b[0mlen_axis\u001b[0m\u001b[0;34m:\u001b[0m\u001b[0;34m\u001b[0m\u001b[0m\n\u001b[0;32m-> 2139\u001b[0;31m             \u001b[0;32mraise\u001b[0m \u001b[0mIndexError\u001b[0m\u001b[0;34m(\u001b[0m\u001b[0;34m\"single positional indexer is out-of-bounds\"\u001b[0m\u001b[0;34m)\u001b[0m\u001b[0;34m\u001b[0m\u001b[0m\n\u001b[0m\u001b[1;32m   2140\u001b[0m \u001b[0;34m\u001b[0m\u001b[0m\n\u001b[1;32m   2141\u001b[0m     \u001b[0;32mdef\u001b[0m \u001b[0m_getitem_tuple\u001b[0m\u001b[0;34m(\u001b[0m\u001b[0mself\u001b[0m\u001b[0;34m,\u001b[0m \u001b[0mtup\u001b[0m\u001b[0;34m)\u001b[0m\u001b[0;34m:\u001b[0m\u001b[0;34m\u001b[0m\u001b[0m\n",
      "\u001b[0;31mIndexError\u001b[0m: single positional indexer is out-of-bounds"
     ]
    }
   ],
   "source": [
    "#check and remove rows where the days are not consecutives \n",
    "\n",
    "data_iter=client_data\n",
    "for i, row in data_iter.iterrows():\n",
    "    delta1=data_iter[\"time1\"].iloc[i] - data_iter[\"time2\"].iloc[i]\n",
    "    delta2=data_iter[\"time2\"].iloc[i] - data_iter[\"time3\"].iloc[i]\n",
    "    delta3=data_iter[\"time3\"].iloc[i] - data_iter[\"time4\"].iloc[i]\n",
    "    \n",
    "    delta1=delta1.days\n",
    "    delta2=delta2.days\n",
    "    delta3=delta3.days\n",
    "    \n",
    "    if delta1 != -1 or delta2 != -1 or delta3 != -1:\n",
    "        client_data = client_data.drop(i)\n"
   ]
  },
  {
   "cell_type": "code",
   "execution_count": 325,
   "metadata": {},
   "outputs": [
    {
     "data": {
      "text/html": [
       "<div>\n",
       "<style scoped>\n",
       "    .dataframe tbody tr th:only-of-type {\n",
       "        vertical-align: middle;\n",
       "    }\n",
       "\n",
       "    .dataframe tbody tr th {\n",
       "        vertical-align: top;\n",
       "    }\n",
       "\n",
       "    .dataframe thead th {\n",
       "        text-align: right;\n",
       "    }\n",
       "</style>\n",
       "<table border=\"1\" class=\"dataframe\">\n",
       "  <thead>\n",
       "    <tr style=\"text-align: right;\">\n",
       "      <th></th>\n",
       "      <th>id-1</th>\n",
       "      <th>var1</th>\n",
       "      <th>time1</th>\n",
       "      <th>val1</th>\n",
       "      <th>time2</th>\n",
       "      <th>val2</th>\n",
       "      <th>time3</th>\n",
       "      <th>val3</th>\n",
       "      <th>time4</th>\n",
       "      <th>val4</th>\n",
       "    </tr>\n",
       "  </thead>\n",
       "  <tbody>\n",
       "    <tr>\n",
       "      <th>0</th>\n",
       "      <td>AS14.01</td>\n",
       "      <td>mood</td>\n",
       "      <td>1900-03-21</td>\n",
       "      <td>6.2</td>\n",
       "      <td>1900-03-22</td>\n",
       "      <td>6.4</td>\n",
       "      <td>1900-03-23</td>\n",
       "      <td>6.8</td>\n",
       "      <td>1900-03-24</td>\n",
       "      <td>6</td>\n",
       "    </tr>\n",
       "    <tr>\n",
       "      <th>1</th>\n",
       "      <td>AS14.01</td>\n",
       "      <td>mood</td>\n",
       "      <td>1900-03-22</td>\n",
       "      <td>6.4</td>\n",
       "      <td>1900-03-23</td>\n",
       "      <td>6.8</td>\n",
       "      <td>1900-03-24</td>\n",
       "      <td>6</td>\n",
       "      <td>1900-03-25</td>\n",
       "      <td>6.75</td>\n",
       "    </tr>\n",
       "    <tr>\n",
       "      <th>2</th>\n",
       "      <td>AS14.01</td>\n",
       "      <td>mood</td>\n",
       "      <td>1900-03-23</td>\n",
       "      <td>6.8</td>\n",
       "      <td>1900-03-24</td>\n",
       "      <td>6</td>\n",
       "      <td>1900-03-25</td>\n",
       "      <td>6.75</td>\n",
       "      <td>1900-03-26</td>\n",
       "      <td>6.6</td>\n",
       "    </tr>\n",
       "    <tr>\n",
       "      <th>3</th>\n",
       "      <td>AS14.01</td>\n",
       "      <td>mood</td>\n",
       "      <td>1900-03-24</td>\n",
       "      <td>6</td>\n",
       "      <td>1900-03-25</td>\n",
       "      <td>6.75</td>\n",
       "      <td>1900-03-26</td>\n",
       "      <td>6.6</td>\n",
       "      <td>1900-03-27</td>\n",
       "      <td>7</td>\n",
       "    </tr>\n",
       "    <tr>\n",
       "      <th>4</th>\n",
       "      <td>AS14.01</td>\n",
       "      <td>mood</td>\n",
       "      <td>1900-03-25</td>\n",
       "      <td>6.75</td>\n",
       "      <td>1900-03-26</td>\n",
       "      <td>6.6</td>\n",
       "      <td>1900-03-27</td>\n",
       "      <td>7</td>\n",
       "      <td>1900-03-28</td>\n",
       "      <td>6.4</td>\n",
       "    </tr>\n",
       "  </tbody>\n",
       "</table>\n",
       "</div>"
      ],
      "text/plain": [
       "      id-1  var1      time1  val1      time2  val2      time3  val3  \\\n",
       "0  AS14.01  mood 1900-03-21   6.2 1900-03-22   6.4 1900-03-23   6.8   \n",
       "1  AS14.01  mood 1900-03-22   6.4 1900-03-23   6.8 1900-03-24     6   \n",
       "2  AS14.01  mood 1900-03-23   6.8 1900-03-24     6 1900-03-25  6.75   \n",
       "3  AS14.01  mood 1900-03-24     6 1900-03-25  6.75 1900-03-26   6.6   \n",
       "4  AS14.01  mood 1900-03-25  6.75 1900-03-26   6.6 1900-03-27     7   \n",
       "\n",
       "       time4  val4  \n",
       "0 1900-03-24     6  \n",
       "1 1900-03-25  6.75  \n",
       "2 1900-03-26   6.6  \n",
       "3 1900-03-27     7  \n",
       "4 1900-03-28   6.4  "
      ]
     },
     "execution_count": 325,
     "metadata": {},
     "output_type": "execute_result"
    }
   ],
   "source": [
    "client_data=client_data.reset_index()\n",
    "client_data = client_data.drop(columns=[\"index\"])\n",
    "client_data.head()"
   ]
  },
  {
   "cell_type": "code",
   "execution_count": 340,
   "metadata": {},
   "outputs": [],
   "source": [
    "# client_data[\"val1\"] = client_data[\"val1\"].apply(pd.to_numeric, errors='coerce')\n",
    "# client_data[\"val2\"] = client_data[\"val2\"].apply(pd.to_numeric, errors='coerce')\n",
    "# client_data[\"val3\"] = client_data[\"val3\"].apply(pd.to_numeric, errors='coerce')\n",
    "# client_data[\"val4\"] = client_data[\"val4\"].apply(pd.to_numeric, errors='coerce')"
   ]
  },
  {
   "cell_type": "code",
   "execution_count": 341,
   "metadata": {},
   "outputs": [
    {
     "data": {
      "text/html": [
       "<div>\n",
       "<style scoped>\n",
       "    .dataframe tbody tr th:only-of-type {\n",
       "        vertical-align: middle;\n",
       "    }\n",
       "\n",
       "    .dataframe tbody tr th {\n",
       "        vertical-align: top;\n",
       "    }\n",
       "\n",
       "    .dataframe thead th {\n",
       "        text-align: right;\n",
       "    }\n",
       "</style>\n",
       "<table border=\"1\" class=\"dataframe\">\n",
       "  <thead>\n",
       "    <tr style=\"text-align: right;\">\n",
       "      <th></th>\n",
       "      <th>id-1</th>\n",
       "      <th>var1</th>\n",
       "      <th>time1</th>\n",
       "      <th>val1</th>\n",
       "      <th>time2</th>\n",
       "      <th>val2</th>\n",
       "      <th>time3</th>\n",
       "      <th>val3</th>\n",
       "      <th>time4</th>\n",
       "      <th>val4</th>\n",
       "      <th>avg</th>\n",
       "      <th>slope</th>\n",
       "    </tr>\n",
       "  </thead>\n",
       "  <tbody>\n",
       "    <tr>\n",
       "      <th>0</th>\n",
       "      <td>AS14.01</td>\n",
       "      <td>mood</td>\n",
       "      <td>1900-03-21</td>\n",
       "      <td>6.20</td>\n",
       "      <td>1900-03-22</td>\n",
       "      <td>6.40</td>\n",
       "      <td>1900-03-23</td>\n",
       "      <td>6.80</td>\n",
       "      <td>1900-03-24</td>\n",
       "      <td>6.00</td>\n",
       "      <td>6.466667</td>\n",
       "      <td>0.300</td>\n",
       "    </tr>\n",
       "    <tr>\n",
       "      <th>1</th>\n",
       "      <td>AS14.01</td>\n",
       "      <td>mood</td>\n",
       "      <td>1900-03-22</td>\n",
       "      <td>6.40</td>\n",
       "      <td>1900-03-23</td>\n",
       "      <td>6.80</td>\n",
       "      <td>1900-03-24</td>\n",
       "      <td>6.00</td>\n",
       "      <td>1900-03-25</td>\n",
       "      <td>6.75</td>\n",
       "      <td>6.400000</td>\n",
       "      <td>-0.200</td>\n",
       "    </tr>\n",
       "    <tr>\n",
       "      <th>2</th>\n",
       "      <td>AS14.01</td>\n",
       "      <td>mood</td>\n",
       "      <td>1900-03-23</td>\n",
       "      <td>6.80</td>\n",
       "      <td>1900-03-24</td>\n",
       "      <td>6.00</td>\n",
       "      <td>1900-03-25</td>\n",
       "      <td>6.75</td>\n",
       "      <td>1900-03-26</td>\n",
       "      <td>6.60</td>\n",
       "      <td>6.516667</td>\n",
       "      <td>-0.025</td>\n",
       "    </tr>\n",
       "    <tr>\n",
       "      <th>3</th>\n",
       "      <td>AS14.01</td>\n",
       "      <td>mood</td>\n",
       "      <td>1900-03-24</td>\n",
       "      <td>6.00</td>\n",
       "      <td>1900-03-25</td>\n",
       "      <td>6.75</td>\n",
       "      <td>1900-03-26</td>\n",
       "      <td>6.60</td>\n",
       "      <td>1900-03-27</td>\n",
       "      <td>7.00</td>\n",
       "      <td>6.450000</td>\n",
       "      <td>0.300</td>\n",
       "    </tr>\n",
       "    <tr>\n",
       "      <th>4</th>\n",
       "      <td>AS14.01</td>\n",
       "      <td>mood</td>\n",
       "      <td>1900-03-25</td>\n",
       "      <td>6.75</td>\n",
       "      <td>1900-03-26</td>\n",
       "      <td>6.60</td>\n",
       "      <td>1900-03-27</td>\n",
       "      <td>7.00</td>\n",
       "      <td>1900-03-28</td>\n",
       "      <td>6.40</td>\n",
       "      <td>6.783333</td>\n",
       "      <td>0.125</td>\n",
       "    </tr>\n",
       "  </tbody>\n",
       "</table>\n",
       "</div>"
      ],
      "text/plain": [
       "      id-1  var1      time1  val1      time2  val2      time3  val3  \\\n",
       "0  AS14.01  mood 1900-03-21  6.20 1900-03-22  6.40 1900-03-23  6.80   \n",
       "1  AS14.01  mood 1900-03-22  6.40 1900-03-23  6.80 1900-03-24  6.00   \n",
       "2  AS14.01  mood 1900-03-23  6.80 1900-03-24  6.00 1900-03-25  6.75   \n",
       "3  AS14.01  mood 1900-03-24  6.00 1900-03-25  6.75 1900-03-26  6.60   \n",
       "4  AS14.01  mood 1900-03-25  6.75 1900-03-26  6.60 1900-03-27  7.00   \n",
       "\n",
       "       time4  val4       avg  slope  \n",
       "0 1900-03-24  6.00  6.466667  0.300  \n",
       "1 1900-03-25  6.75  6.400000 -0.200  \n",
       "2 1900-03-26  6.60  6.516667 -0.025  \n",
       "3 1900-03-27  7.00  6.450000  0.300  \n",
       "4 1900-03-28  6.40  6.783333  0.125  "
      ]
     },
     "execution_count": 341,
     "metadata": {},
     "output_type": "execute_result"
    }
   ],
   "source": [
    "# these actions are part of the preliminary process\n",
    "#add column with the average \n",
    "client_data['avg'] = client_data[['val1','val2', 'val3']].mean(axis=1)\n",
    "\n",
    "# add slope column\n",
    "slopes = []\n",
    "for i, row in client_data.iterrows():\n",
    "    a,b = np.polyfit([1,2,3],[row['val1'],row['val2'],row['val3']],1)\n",
    "    slopes.append(a)\n",
    "client_data['slope']=slopes\n",
    "\n",
    "client_data.head(5)"
   ]
  },
  {
   "cell_type": "markdown",
   "metadata": {},
   "source": [
    "# final output preprocessed data \n",
    "client data or final_df"
   ]
  },
  {
   "cell_type": "code",
   "execution_count": null,
   "metadata": {},
   "outputs": [],
   "source": [
    "# settin the DF target value form\n",
    "final_df = client_data\n",
    "\n",
    "final_df=final_df.rename(index=str, columns={\"val4\": \"mood_target\"})\n",
    "final_df=final_df.drop(['val1', 'val2',\"val3\"], axis=1)"
   ]
  },
  {
   "cell_type": "code",
   "execution_count": null,
   "metadata": {},
   "outputs": [],
   "source": [
    "final_df.head(5)\n",
    "\n",
    "final_df[\"mood_target\"] = final_df[\"mood_target\"].apply(pd.to_numeric, errors='coerce')\n",
    "final_df[\"avg\"] = final_df[\"avg\"].apply(pd.to_numeric, errors='coerce')\n",
    "final_df[\"slope\"] = final_df[\"slope\"].apply(pd.to_numeric, errors='coerce')"
   ]
  },
  {
   "cell_type": "code",
   "execution_count": 366,
   "metadata": {},
   "outputs": [],
   "source": [
    "# output to csv\n",
    "client_data.to_csv(\"dataset-Preprocessed1.csv\")\n",
    "final_df.to_csv(\"dataset-Preprocessed2.csv\")"
   ]
  },
  {
   "cell_type": "markdown",
   "metadata": {},
   "source": [
    "# preliminary analysis, not correct! tried some stuff"
   ]
  },
  {
   "cell_type": "code",
   "execution_count": 345,
   "metadata": {},
   "outputs": [
    {
     "data": {
      "text/html": [
       "<div>\n",
       "<style scoped>\n",
       "    .dataframe tbody tr th:only-of-type {\n",
       "        vertical-align: middle;\n",
       "    }\n",
       "\n",
       "    .dataframe tbody tr th {\n",
       "        vertical-align: top;\n",
       "    }\n",
       "\n",
       "    .dataframe thead th {\n",
       "        text-align: right;\n",
       "    }\n",
       "</style>\n",
       "<table border=\"1\" class=\"dataframe\">\n",
       "  <thead>\n",
       "    <tr style=\"text-align: right;\">\n",
       "      <th></th>\n",
       "      <th>id-1</th>\n",
       "      <th>var1</th>\n",
       "      <th>time1</th>\n",
       "      <th>time2</th>\n",
       "      <th>time3</th>\n",
       "      <th>time4</th>\n",
       "      <th>mood_target</th>\n",
       "      <th>avg</th>\n",
       "      <th>slope</th>\n",
       "    </tr>\n",
       "  </thead>\n",
       "  <tbody>\n",
       "    <tr>\n",
       "      <th>0</th>\n",
       "      <td>AS14.01</td>\n",
       "      <td>mood</td>\n",
       "      <td>1900-03-21</td>\n",
       "      <td>1900-03-22</td>\n",
       "      <td>1900-03-23</td>\n",
       "      <td>1900-03-24</td>\n",
       "      <td>6.00</td>\n",
       "      <td>6.466667</td>\n",
       "      <td>0.300</td>\n",
       "    </tr>\n",
       "    <tr>\n",
       "      <th>1</th>\n",
       "      <td>AS14.01</td>\n",
       "      <td>mood</td>\n",
       "      <td>1900-03-22</td>\n",
       "      <td>1900-03-23</td>\n",
       "      <td>1900-03-24</td>\n",
       "      <td>1900-03-25</td>\n",
       "      <td>6.75</td>\n",
       "      <td>6.400000</td>\n",
       "      <td>-0.200</td>\n",
       "    </tr>\n",
       "    <tr>\n",
       "      <th>2</th>\n",
       "      <td>AS14.01</td>\n",
       "      <td>mood</td>\n",
       "      <td>1900-03-23</td>\n",
       "      <td>1900-03-24</td>\n",
       "      <td>1900-03-25</td>\n",
       "      <td>1900-03-26</td>\n",
       "      <td>6.60</td>\n",
       "      <td>6.516667</td>\n",
       "      <td>-0.025</td>\n",
       "    </tr>\n",
       "    <tr>\n",
       "      <th>3</th>\n",
       "      <td>AS14.01</td>\n",
       "      <td>mood</td>\n",
       "      <td>1900-03-24</td>\n",
       "      <td>1900-03-25</td>\n",
       "      <td>1900-03-26</td>\n",
       "      <td>1900-03-27</td>\n",
       "      <td>7.00</td>\n",
       "      <td>6.450000</td>\n",
       "      <td>0.300</td>\n",
       "    </tr>\n",
       "    <tr>\n",
       "      <th>4</th>\n",
       "      <td>AS14.01</td>\n",
       "      <td>mood</td>\n",
       "      <td>1900-03-25</td>\n",
       "      <td>1900-03-26</td>\n",
       "      <td>1900-03-27</td>\n",
       "      <td>1900-03-28</td>\n",
       "      <td>6.40</td>\n",
       "      <td>6.783333</td>\n",
       "      <td>0.125</td>\n",
       "    </tr>\n",
       "  </tbody>\n",
       "</table>\n",
       "</div>"
      ],
      "text/plain": [
       "      id-1  var1      time1      time2      time3      time4  mood_target  \\\n",
       "0  AS14.01  mood 1900-03-21 1900-03-22 1900-03-23 1900-03-24         6.00   \n",
       "1  AS14.01  mood 1900-03-22 1900-03-23 1900-03-24 1900-03-25         6.75   \n",
       "2  AS14.01  mood 1900-03-23 1900-03-24 1900-03-25 1900-03-26         6.60   \n",
       "3  AS14.01  mood 1900-03-24 1900-03-25 1900-03-26 1900-03-27         7.00   \n",
       "4  AS14.01  mood 1900-03-25 1900-03-26 1900-03-27 1900-03-28         6.40   \n",
       "\n",
       "        avg  slope  \n",
       "0  6.466667  0.300  \n",
       "1  6.400000 -0.200  \n",
       "2  6.516667 -0.025  \n",
       "3  6.450000  0.300  \n",
       "4  6.783333  0.125  "
      ]
     },
     "execution_count": 345,
     "metadata": {},
     "output_type": "execute_result"
    }
   ],
   "source": [
    "final_df.head(5)"
   ]
  },
  {
   "cell_type": "code",
   "execution_count": 356,
   "metadata": {},
   "outputs": [],
   "source": [
    "# pivot table\n",
    "pivot = pd.pivot_table(final_df, values=['avg','slope','mood_target'], index=['id-1', 'time4'], columns=['var1'])\n",
    "\n",
    "# pivot tweeking\n",
    "pivot_t=pivot\n",
    "\n",
    "\n",
    "list_to_remove=[(\"mood_target\",\"activity\"),(\"mood_target\",\"appCat.builtin\"),(\"mood_target\",\"appCat.communication\"),(\"mood_target\",\"appCat.entertainment\"),\n",
    "                (\"mood_target\",\"appCat.finance\"),(\"mood_target\",\"appCat.game\"),(\"mood_target\",\"appCat.office\"),\n",
    "                (\"mood_target\",\"appCat.other\"),(\"mood_target\",\"appCat.social\"),(\"mood_target\",\"appCat.travel\"),\n",
    "                (\"mood_target\",\"appCat.unknown\"),(\"mood_target\",\"appCat.utilities\"),(\"mood_target\",\"appCat.weather\"),\n",
    "                (\"mood_target\",\"call\"),(\"mood_target\",\"circumplex.arousal\"),(\"mood_target\",\"circumplex.valence\"),\n",
    "                (\"mood_target\",\"screen\"),(\"mood_target\",\"sms\")]\n",
    "\n",
    "pivot_t=pivot_t.drop(list_to_remove, axis =1)\n"
   ]
  },
  {
   "cell_type": "code",
   "execution_count": 358,
   "metadata": {},
   "outputs": [],
   "source": [
    "# testingggg\n",
    "#delete rows with only Nan\n",
    "pivot_t =pivot_t.dropna(how='all')\n",
    "#drop rows where there is no mood to predict\n",
    "pivot_t = pivot_t.dropna(axis=0, subset=[('mood_target','mood')])\n",
    "#check which variables have empty values\n",
    "# test.isna().any()"
   ]
  },
  {
   "cell_type": "code",
   "execution_count": 349,
   "metadata": {},
   "outputs": [],
   "source": []
  },
  {
   "cell_type": "code",
   "execution_count": 363,
   "metadata": {},
   "outputs": [],
   "source": [
    "pivot_t=pivot_t.fillna(0)\n",
    "\n",
    "cols = list(pivot_t.columns.values) #Make a list of all of the columns in the df\n",
    "cols.pop(cols.index((\"mood_target\",\"mood\"))) #Remove b from list\n",
    "pivot_t = pivot_t[cols+[(\"mood_target\",\"mood\")]] #Create new dataframe with columns in the order you want\n",
    "\n",
    "# pivot_t.to_csv(\"Preprocessed-dataset.csv\")"
   ]
  },
  {
   "cell_type": "code",
   "execution_count": 360,
   "metadata": {},
   "outputs": [
    {
     "data": {
      "image/png": "[encoded data removed]",
      "text/plain": [
       "<Figure size 432x288 with 2 Axes>"
      ]
     },
     "metadata": {
      "needs_background": "light"
     },
     "output_type": "display_data"
    }
   ],
   "source": [
    "# heatmap\n",
    "import matplotlib.pyplot as plt\n",
    "\n",
    "plt.pcolor(test)\n",
    "plt.colorbar()\n",
    "plt.show()"
   ]
  }
 ],
 "metadata": {
  "kernelspec": {
   "display_name": "Python 3",
   "language": "python",
   "name": "python3"
  },
  "language_info": {
   "codemirror_mode": {
    "name": "ipython",
    "version": 3
   },
   "file_extension": ".py",
   "mimetype": "text/x-python",
   "name": "python",
   "nbconvert_exporter": "python",
   "pygments_lexer": "ipython3",
   "version": "3.6.5"
  }
 },
 "nbformat": 4,
 "nbformat_minor": 2
}
